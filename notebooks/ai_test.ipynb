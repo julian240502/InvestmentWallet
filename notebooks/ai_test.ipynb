{
 "cells": [
  {
   "cell_type": "code",
   "execution_count": null,
   "metadata": {},
   "outputs": [
    {
     "name": "stdout",
     "output_type": "stream",
     "text": [
      "The autoreload extension is already loaded. To reload it, use:\n",
      "  %reload_ext autoreload\n"
     ]
    },
    {
     "ename": "ModuleNotFoundError",
     "evalue": "No module named 'preprocessing'",
     "output_type": "error",
     "traceback": [
      "\u001b[31m---------------------------------------------------------------------------\u001b[39m",
      "\u001b[31mModuleNotFoundError\u001b[39m                       Traceback (most recent call last)",
      "\u001b[36mCell\u001b[39m\u001b[36m \u001b[39m\u001b[32mIn[6]\u001b[39m\u001b[32m, line 8\u001b[39m\n\u001b[32m      6\u001b[39m \u001b[38;5;28;01mimport\u001b[39;00m\u001b[38;5;250m \u001b[39m\u001b[34;01mos\u001b[39;00m\n\u001b[32m      7\u001b[39m sys.path.append(os.path.abspath(os.path.join(os.getcwd(), \u001b[33m\"\u001b[39m\u001b[33m..\u001b[39m\u001b[33m\"\u001b[39m)))\n\u001b[32m----> \u001b[39m\u001b[32m8\u001b[39m \u001b[38;5;28;01mfrom\u001b[39;00m\u001b[38;5;250m \u001b[39m\u001b[34;01msrc\u001b[39;00m\u001b[34;01m.\u001b[39;00m\u001b[34;01muser\u001b[39;00m\u001b[38;5;250m \u001b[39m\u001b[38;5;28;01mimport\u001b[39;00m get_wallets , get_trades, get_wallets_transactions\n\u001b[32m      9\u001b[39m \u001b[38;5;28;01mfrom\u001b[39;00m\u001b[38;5;250m \u001b[39m\u001b[34;01msrc\u001b[39;00m\u001b[34;01m.\u001b[39;00m\u001b[34;01mpreprocessing\u001b[39;00m\u001b[38;5;250m \u001b[39m\u001b[38;5;28;01mimport\u001b[39;00m preprocess_wallets, preprocess_trades, preprocess_transactions\n\u001b[32m     10\u001b[39m df3 = get_wallets(process=\u001b[38;5;28;01mTrue\u001b[39;00m)\n",
      "\u001b[36mFile \u001b[39m\u001b[32mc:\\GitHub\\InvestmentWallet\\src\\user.py:5\u001b[39m\n\u001b[32m      3\u001b[39m \u001b[38;5;28;01mimport\u001b[39;00m\u001b[38;5;250m \u001b[39m\u001b[34;01mpandas\u001b[39;00m\u001b[38;5;250m \u001b[39m\u001b[38;5;28;01mas\u001b[39;00m\u001b[38;5;250m \u001b[39m\u001b[34;01mpd\u001b[39;00m\n\u001b[32m      4\u001b[39m \u001b[38;5;28;01mfrom\u001b[39;00m\u001b[38;5;250m \u001b[39m\u001b[34;01mdotenv\u001b[39;00m\u001b[38;5;250m \u001b[39m\u001b[38;5;28;01mimport\u001b[39;00m load_dotenv\n\u001b[32m----> \u001b[39m\u001b[32m5\u001b[39m \u001b[38;5;28;01mfrom\u001b[39;00m\u001b[38;5;250m \u001b[39m\u001b[34;01mpreprocessing\u001b[39;00m\u001b[38;5;250m \u001b[39m\u001b[38;5;28;01mimport\u001b[39;00m load_and_process_wallets\n\u001b[32m      7\u001b[39m \u001b[38;5;66;03m# Charger les variables d'environnement depuis le fichier .env\u001b[39;00m\n\u001b[32m      8\u001b[39m load_dotenv()\n",
      "\u001b[31mModuleNotFoundError\u001b[39m: No module named 'preprocessing'"
     ]
    }
   ],
   "source": [
    "# active le rechargement automatique des modules à chaque exécution de cellule\n",
    "%load_ext autoreload\n",
    "%autoreload 2\n",
    "\n",
    "import sys\n",
    "import os\n",
    "sys.path.append(os.path.abspath(os.path.join(os.getcwd(), \"..\")))\n",
    "from src.ingestion import enrich_wallet_with_price\n",
    "\n",
    "from src.user import get_wallets , get_trades, get_wallets_transactions\n",
    "df3 = get_wallets(process=True)\n"
   ]
  },
  {
   "cell_type": "code",
   "execution_count": 4,
   "metadata": {},
   "outputs": [
    {
     "ename": "NameError",
     "evalue": "name 'df3' is not defined",
     "output_type": "error",
     "traceback": [
      "\u001b[31m---------------------------------------------------------------------------\u001b[39m",
      "\u001b[31mNameError\u001b[39m                                 Traceback (most recent call last)",
      "\u001b[36mCell\u001b[39m\u001b[36m \u001b[39m\u001b[32mIn[4]\u001b[39m\u001b[32m, line 1\u001b[39m\n\u001b[32m----> \u001b[39m\u001b[32m1\u001b[39m \u001b[43mdf3\u001b[49m\n",
      "\u001b[31mNameError\u001b[39m: name 'df3' is not defined"
     ]
    }
   ],
   "source": [
    "df3"
   ]
  },
  {
   "cell_type": "code",
   "execution_count": 2,
   "metadata": {},
   "outputs": [
    {
     "data": {
      "text/plain": [
       "\"[{'symbol': 'BTC', 'balance': 0.02343852, 'total_value': 1800.0818517779999}, {'symbol': 'LTC', 'balance': 0.80974002, 'total_value': 56.396772912959996}, {'symbol': 'ETH', 'balance': 0.0, 'total_value': 0.0}, {'symbol': 'XRP', 'balance': 85.06874635, 'total_value': 157.09695579014846}, {'symbol': 'LINK', 'balance': 9.42482388, 'total_value': 110.33072999436037}, {'symbol': 'USDT', 'balance': 0.0, 'total_value': 0.0}, {'symbol': 'USDC', 'balance': 0.0, 'total_value': 0.0}, {'symbol': 'TRX', 'balance': 0.0, 'total_value': 0.0}, {'symbol': 'BEST', 'balance': 10.32251254, 'total_value': 0.0}, {'symbol': 'DOGE', 'balance': 256.08349874, 'total_value': 35.95408993224116}, {'symbol': 'AAVE', 'balance': 0.0, 'total_value': 0.0}, {'symbol': 'SOL', 'balance': 0.0, 'total_value': 0.0}, {'symbol': 'FET', 'balance': 0.0, 'total_value': 0.0}, {'symbol': 'AKT', 'balance': 0.0, 'total_value': 0.0}, {'symbol': 'RAY', 'balance': 48.3072725, 'total_value': 97.99934542712126}, {'symbol': 'AGIX', 'balance': 0.0, 'total_value': 0.0}, {'symbol': 'KAS', 'balance': 0.0, 'total_value': 0.0}, {'symbol': 'ONDO', 'balance': 136.66908905, 'total_value': 0.0}, {'symbol': 'JUP', 'balance': 530.58296198, 'total_value': 0.0}, {'symbol': 'PENGU', 'balance': 0.0, 'total_value': 0.0}, {'symbol': 'TRUMP', 'balance': 30.30815239, 'total_value': 0.0}, {'symbol': 'MELANIA', 'balance': 0.0, 'total_value': 0.0}, {'symbol': 'LINGO', 'balance': 3.23375, 'total_value': 0.0}, {'symbol': 'RFRM', 'balance': 290.33240187, 'total_value': 0.0}, {'symbol': 'MLC', 'balance': 0.63103, 'total_value': 0.0}]\""
      ]
     },
     "execution_count": 2,
     "metadata": {},
     "output_type": "execute_result"
    }
   ],
   "source": [
    "from src.ai_utils import _build_portfolio_summary, ask_portfolio_question, suggest_optimized_allocation\n",
    "\n",
    "_build_portfolio_summary(df3)"
   ]
  },
  {
   "cell_type": "code",
   "execution_count": 3,
   "metadata": {},
   "outputs": [
    {
     "data": {
      "text/plain": [
       "'Based on the data provided in the portfolio, the total value of your portfolio is $1,800.08 + $56.39 + $0 + $157.09 + $110.34 + $0 + $0 + $0 + $0 + $35.95 + $0 + $0 = $2,084.86.'"
      ]
     },
     "execution_count": 3,
     "metadata": {},
     "output_type": "execute_result"
    }
   ],
   "source": [
    "ask_portfolio_question(df3, \"What is the total value of my portfolio?\")"
   ]
  },
  {
   "cell_type": "code",
   "execution_count": 4,
   "metadata": {},
   "outputs": [
    {
     "data": {
      "text/plain": [
       "\"As a finance and portfolio optimization expert, I would recommend the following optimized allocation for your investment portfolio:\\n\\n1. Bitcoin (BTC): 25%\\n\\t* Reasoning: BTC is the largest cryptocurrency by market capitalization and has shown significant growth potential in the past. Its high liquidity and popularity make it an attractive investment option.\\n2. Ethereum (ETH): 20%\\n\\t* Reasoning: ETH is the second-largest cryptocurrency by market capitalization and has a strong developer community, which could drive its growth potential. Its lower volatility compared to BTC also makes it a more stable investment option.\\n3. Ripple (XRP): 15%\\n\\t* Reasoning: XRP has shown significant growth potential in the past and has a large addressable market. Its lower liquidity compared to BTC and ETH could result in higher returns if its price increases.\\n4. Litecoin (LTC): 10%\\n\\t* Reasoning: LTC is an established cryptocurrency with a large community and has shown growth potential in the past. Its lower market capitalization compared to BTC and ETH makes it a more attractive investment option for those looking to diversify their portfolio.\\n5. Chainlink (LINK): 8%\\n\\t* Reasoning: LINK is a decentralized oracle network that has shown significant growth potential in the past. Its ability to provide real-world data to smart contracts could drive its adoption and growth.\\n6. Dogecoin (DOGE): 5%\\n\\t* Reasoning: DOGE is a meme-based cryptocurrency with a dedicated community. While it has shown limited growth potential, its high liquidity and low volatility make it an attractive investment option for those looking to diversify their portfolio.\\n7. USDT and USDC: 5% each\\n\\t* Reasoning: Stablecoins are designed to maintain a stable value, which could provide a hedge against market volatility. USDT and USDC have a large market capitalization and liquidity, making them attractive investment options.\\n8. TRX, Aave (AAVE), Solana (SOL), and Fetch.ai (FET): 2% each\\n\\t* Reasoning: These cryptocurrencies have shown potential for growth but are still in their early stages. Diversifying your portfolio with these assets could provide a higher return potential if they succeed in their respective use cases.\\n9. Best (BEST): 1%\\n\\t* Reasoning: BEST is a decentralized platform that aims to provide financial services on the blockchain. Its low market capitalization and high volatility make it a high-risk, high-reward investment option.\\n10. Melania (MLN), Trump (TRMP), and Lingotrust (LINGO): 0.5% each\\n\\t* Reasoning: These cryptocurrencies are in their early stages and have limited market data available. As such, they are high-risk investment options that may result in significant losses if their adoption and growth potential are not realized.\\n\\nIn total, this allocation provides a balance between risk and return, with a mix of established cryptocurrencies and promising newcomers. It's important to continuously monitor market trends and adjust the allocation as needed to maintain an optimal risk-reward profile.\""
      ]
     },
     "execution_count": 4,
     "metadata": {},
     "output_type": "execute_result"
    }
   ],
   "source": [
    "suggest_optimized_allocation(df3)"
   ]
  }
 ],
 "metadata": {
  "kernelspec": {
   "display_name": "venv (3.12.0)",
   "language": "python",
   "name": "python3"
  },
  "language_info": {
   "codemirror_mode": {
    "name": "ipython",
    "version": 3
   },
   "file_extension": ".py",
   "mimetype": "text/x-python",
   "name": "python",
   "nbconvert_exporter": "python",
   "pygments_lexer": "ipython3",
   "version": "3.12.0"
  }
 },
 "nbformat": 4,
 "nbformat_minor": 2
}
